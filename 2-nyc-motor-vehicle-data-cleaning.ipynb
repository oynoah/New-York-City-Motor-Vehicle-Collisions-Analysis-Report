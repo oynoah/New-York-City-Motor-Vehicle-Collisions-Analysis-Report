{
 "cells": [
  {
   "cell_type": "code",
   "execution_count": 2,
   "metadata": {},
   "outputs": [
    {
     "data": {
      "text/plain": [
       "<sqlite3.Connection at 0x19ea533b2e0>"
      ]
     },
     "execution_count": 2,
     "metadata": {},
     "output_type": "execute_result"
    }
   ],
   "source": [
    "import pandas as pd \n",
    "import sqlite3 as sqlite \n",
    "import warnings\n",
    "warnings.simplefilter(action='ignore')\n",
    "\n",
    "connection = sqlite.connect('motor_vehicle_collisions.db')\n",
    "connection\n"
   ]
  },
  {
   "cell_type": "markdown",
   "metadata": {},
   "source": [
    "## **Cleaning The Vehicle Types Entries**\n"
   ]
  },
  {
   "cell_type": "code",
   "execution_count": 3,
   "metadata": {},
   "outputs": [
    {
     "name": "stdout",
     "output_type": "stream",
     "text": [
      "963\n"
     ]
    }
   ],
   "source": [
    "## Generate a summary table of the unique vehicle types\n",
    "vehicle_types_query = \"\"\" \n",
    "    WITH vehicle_1_type AS (\n",
    "        SELECT\n",
    "            vehicle_1 AS vehicle_type,\n",
    "            COUNT(*) AS collisions\n",
    "        FROM\n",
    "            vehicle_type\n",
    "        WHERE\n",
    "            vehicle_1 != 'None'\n",
    "        GROUP BY\n",
    "            vehicle_type\n",
    "    ),\n",
    "    vehicle_2_type AS (\n",
    "        SELECT \n",
    "            vehicle_2 AS vehicle_type,\n",
    "            COUNT(*) AS collisions\n",
    "        FROM\n",
    "            vehicle_type\n",
    "        WHERE\n",
    "            vehicle_2 != 'None'\n",
    "        GROUP BY\n",
    "            vehicle_type\n",
    "    ),\n",
    "    vehicle_3_type AS (\n",
    "        SELECT\n",
    "            vehicle_3 AS vehicle_type,\n",
    "            COUNT(*) AS collisions\n",
    "        FROM\n",
    "            vehicle_type\n",
    "        WHERE\n",
    "            vehicle_3 != 'None'\n",
    "        GROUP BY\n",
    "            vehicle_type\n",
    "    ),\n",
    "    vehicle_4_type AS (\n",
    "        SELECT\n",
    "            vehicle_4 AS vehicle_type,\n",
    "            COUNT(*) AS collisions\n",
    "        FROM\n",
    "            vehicle_type\n",
    "        WHERE \n",
    "            vehicle_4 != 'None'\n",
    "        GROUP BY\n",
    "            vehicle_type\n",
    "    ),\n",
    "    vehicle_5_type AS (\n",
    "        SELECT \n",
    "            vehicle_5 AS vehicle_type,\n",
    "            COUNT(*) AS collisions\n",
    "        FROM\n",
    "            vehicle_type\n",
    "        WHERE\n",
    "            vehicle_5 != 'None'\n",
    "        GROUP BY\n",
    "            vehicle_type\n",
    "    ), \n",
    "    merged_types AS (\n",
    "        SELECT\n",
    "             v_1_t_tbl.vehicle_type,\n",
    "             v_1_t_tbl.collisions\n",
    "        FROM\n",
    "            vehicle_1_type AS v_1_t_tbl\n",
    "        UNION\n",
    "        SELECT\n",
    "             v_2_t_tbl.vehicle_type,\n",
    "             v_2_t_tbl.collisions\n",
    "        FROM\n",
    "            vehicle_2_type AS v_2_t_tbl\n",
    "        UNION\n",
    "        SELECT\n",
    "             v_3_t_tbl.vehicle_type,\n",
    "             v_3_t_tbl.collisions\n",
    "        FROM\n",
    "            vehicle_3_type AS v_3_t_tbl\n",
    "        UNION\n",
    "        SELECT\n",
    "             v_4_t_tbl.vehicle_type,\n",
    "             v_4_t_tbl.collisions\n",
    "        FROM\n",
    "            vehicle_4_type AS v_4_t_tbl\n",
    "        UNION\n",
    "        SELECT\n",
    "             v_5_t_tbl.vehicle_type,\n",
    "             v_5_t_tbl.collisions\n",
    "        FROM\n",
    "            vehicle_5_type AS v_5_t_tbl\n",
    "    )\n",
    "    SELECT \n",
    "        vehicle_type,\n",
    "        SUM(collisions) AS vehicles\n",
    "    FROM \n",
    "        merged_types\n",
    "    GROUP BY\n",
    "        vehicle_type\n",
    "    ORDER BY\n",
    "        vehicles DESC;\n",
    "\"\"\"\n",
    "\n",
    "vehicle_types = pd.read_sql_query(vehicle_types_query, connection).drop_duplicates('vehicle_type')\n",
    "print(vehicle_types.vehicle_type.nunique())\n"
   ]
  },
  {
   "cell_type": "code",
   "execution_count": 4,
   "metadata": {},
   "outputs": [],
   "source": [
    "# export the summary table to a csv file for cleaning\n",
    "#vehicle_types.to_csv('vehicle_types.csv', index=False)\n"
   ]
  },
  {
   "cell_type": "code",
   "execution_count": 5,
   "metadata": {},
   "outputs": [],
   "source": [
    "vehicle_type = pd.read_csv('vehicle_type.csv')\n",
    "clnd_vehicle_type = vehicle_type.copy()\n"
   ]
  },
  {
   "cell_type": "code",
   "execution_count": 6,
   "metadata": {},
   "outputs": [
    {
     "data": {
      "text/plain": [
       "Index(['collision_id', 'vehicle_1', 'vehicle_2', 'vehicle_3', 'vehicle_4',\n",
       "       'vehicle_5'],\n",
       "      dtype='object')"
      ]
     },
     "execution_count": 6,
     "metadata": {},
     "output_type": "execute_result"
    }
   ],
   "source": [
    "clnd_vehicle_type.columns\n"
   ]
  },
  {
   "cell_type": "code",
   "execution_count": 7,
   "metadata": {},
   "outputs": [],
   "source": [
    "vehicle_types = pd.read_csv('vehicle_types.csv')\n",
    "ref_vehicle_types = vehicle_types.copy()\n"
   ]
  },
  {
   "cell_type": "code",
   "execution_count": 8,
   "metadata": {},
   "outputs": [
    {
     "data": {
      "text/html": [
       "<div>\n",
       "<style scoped>\n",
       "    .dataframe tbody tr th:only-of-type {\n",
       "        vertical-align: middle;\n",
       "    }\n",
       "\n",
       "    .dataframe tbody tr th {\n",
       "        vertical-align: top;\n",
       "    }\n",
       "\n",
       "    .dataframe thead th {\n",
       "        text-align: right;\n",
       "    }\n",
       "</style>\n",
       "<table border=\"1\" class=\"dataframe\">\n",
       "  <thead>\n",
       "    <tr style=\"text-align: right;\">\n",
       "      <th></th>\n",
       "      <th>vehicle_type</th>\n",
       "      <th>Vehicle_Type</th>\n",
       "    </tr>\n",
       "  </thead>\n",
       "  <tbody>\n",
       "    <tr>\n",
       "      <th>0</th>\n",
       "      <td>Sedan</td>\n",
       "      <td>Sedan</td>\n",
       "    </tr>\n",
       "    <tr>\n",
       "      <th>1</th>\n",
       "      <td>Station Wagon/Sport Utility Vehicle</td>\n",
       "      <td>Sport Utility Vehicle</td>\n",
       "    </tr>\n",
       "    <tr>\n",
       "      <th>2</th>\n",
       "      <td>Bike</td>\n",
       "      <td>Bike</td>\n",
       "    </tr>\n",
       "    <tr>\n",
       "      <th>3</th>\n",
       "      <td>Pick-up Truck</td>\n",
       "      <td>Pick-up Truck</td>\n",
       "    </tr>\n",
       "    <tr>\n",
       "      <th>4</th>\n",
       "      <td>Box Truck</td>\n",
       "      <td>Box Truck</td>\n",
       "    </tr>\n",
       "  </tbody>\n",
       "</table>\n",
       "</div>"
      ],
      "text/plain": [
       "                          vehicle_type           Vehicle_Type\n",
       "0                                Sedan                  Sedan\n",
       "1  Station Wagon/Sport Utility Vehicle  Sport Utility Vehicle\n",
       "2                                 Bike                   Bike\n",
       "3                        Pick-up Truck          Pick-up Truck\n",
       "4                            Box Truck              Box Truck"
      ]
     },
     "execution_count": 8,
     "metadata": {},
     "output_type": "execute_result"
    }
   ],
   "source": [
    "ref_vehicle_types.head()\n"
   ]
  },
  {
   "cell_type": "code",
   "execution_count": 9,
   "metadata": {},
   "outputs": [],
   "source": [
    "# Replace the messy entries with new ones\n",
    "mapping = ref_vehicle_types.set_index('vehicle_type')['Vehicle_Type']\n",
    "\n",
    "# Now, apply the mapping to the columns in df1\n",
    "columns_to_replace = ['vehicle_1', 'vehicle_2', 'vehicle_3', 'vehicle_4', 'vehicle_5']\n",
    "for col in columns_to_replace:\n",
    "    clnd_vehicle_type[col] = clnd_vehicle_type[col].map(mapping)\n"
   ]
  },
  {
   "cell_type": "code",
   "execution_count": 10,
   "metadata": {},
   "outputs": [
    {
     "data": {
      "text/html": [
       "<div>\n",
       "<style scoped>\n",
       "    .dataframe tbody tr th:only-of-type {\n",
       "        vertical-align: middle;\n",
       "    }\n",
       "\n",
       "    .dataframe tbody tr th {\n",
       "        vertical-align: top;\n",
       "    }\n",
       "\n",
       "    .dataframe thead th {\n",
       "        text-align: right;\n",
       "    }\n",
       "</style>\n",
       "<table border=\"1\" class=\"dataframe\">\n",
       "  <thead>\n",
       "    <tr style=\"text-align: right;\">\n",
       "      <th></th>\n",
       "      <th>collision_id</th>\n",
       "      <th>vehicle_1</th>\n",
       "      <th>vehicle_2</th>\n",
       "      <th>vehicle_3</th>\n",
       "      <th>vehicle_4</th>\n",
       "      <th>vehicle_5</th>\n",
       "    </tr>\n",
       "  </thead>\n",
       "  <tbody>\n",
       "    <tr>\n",
       "      <th>0</th>\n",
       "      <td>4491064</td>\n",
       "      <td>Sedan</td>\n",
       "      <td>Sedan</td>\n",
       "      <td>NaN</td>\n",
       "      <td>NaN</td>\n",
       "      <td>NaN</td>\n",
       "    </tr>\n",
       "    <tr>\n",
       "      <th>1</th>\n",
       "      <td>4491066</td>\n",
       "      <td>Sedan</td>\n",
       "      <td>Sport Utility Vehicle</td>\n",
       "      <td>NaN</td>\n",
       "      <td>NaN</td>\n",
       "      <td>NaN</td>\n",
       "    </tr>\n",
       "    <tr>\n",
       "      <th>2</th>\n",
       "      <td>4491068</td>\n",
       "      <td>Sport Utility Vehicle</td>\n",
       "      <td>Sport Utility Vehicle</td>\n",
       "      <td>NaN</td>\n",
       "      <td>NaN</td>\n",
       "      <td>NaN</td>\n",
       "    </tr>\n",
       "    <tr>\n",
       "      <th>3</th>\n",
       "      <td>4491069</td>\n",
       "      <td>Sport Utility Vehicle</td>\n",
       "      <td>NaN</td>\n",
       "      <td>NaN</td>\n",
       "      <td>NaN</td>\n",
       "      <td>NaN</td>\n",
       "    </tr>\n",
       "    <tr>\n",
       "      <th>4</th>\n",
       "      <td>4491076</td>\n",
       "      <td>E-Bike</td>\n",
       "      <td>NaN</td>\n",
       "      <td>NaN</td>\n",
       "      <td>NaN</td>\n",
       "      <td>NaN</td>\n",
       "    </tr>\n",
       "    <tr>\n",
       "      <th>...</th>\n",
       "      <td>...</td>\n",
       "      <td>...</td>\n",
       "      <td>...</td>\n",
       "      <td>...</td>\n",
       "      <td>...</td>\n",
       "      <td>...</td>\n",
       "    </tr>\n",
       "    <tr>\n",
       "      <th>200462</th>\n",
       "      <td>4715923</td>\n",
       "      <td>NaN</td>\n",
       "      <td>NaN</td>\n",
       "      <td>NaN</td>\n",
       "      <td>NaN</td>\n",
       "      <td>NaN</td>\n",
       "    </tr>\n",
       "    <tr>\n",
       "      <th>200463</th>\n",
       "      <td>4717852</td>\n",
       "      <td>Sport Utility Vehicle</td>\n",
       "      <td>Sport Utility Vehicle</td>\n",
       "      <td>NaN</td>\n",
       "      <td>NaN</td>\n",
       "      <td>NaN</td>\n",
       "    </tr>\n",
       "    <tr>\n",
       "      <th>200464</th>\n",
       "      <td>4718805</td>\n",
       "      <td>Sport Utility Vehicle</td>\n",
       "      <td>Sedan</td>\n",
       "      <td>Sedan</td>\n",
       "      <td>NaN</td>\n",
       "      <td>NaN</td>\n",
       "    </tr>\n",
       "    <tr>\n",
       "      <th>200465</th>\n",
       "      <td>4719291</td>\n",
       "      <td>Sedan</td>\n",
       "      <td>Sport Utility Vehicle</td>\n",
       "      <td>NaN</td>\n",
       "      <td>NaN</td>\n",
       "      <td>NaN</td>\n",
       "    </tr>\n",
       "    <tr>\n",
       "      <th>200466</th>\n",
       "      <td>4722485</td>\n",
       "      <td>Sedan</td>\n",
       "      <td>Bike</td>\n",
       "      <td>NaN</td>\n",
       "      <td>NaN</td>\n",
       "      <td>NaN</td>\n",
       "    </tr>\n",
       "  </tbody>\n",
       "</table>\n",
       "<p>200467 rows × 6 columns</p>\n",
       "</div>"
      ],
      "text/plain": [
       "        collision_id              vehicle_1              vehicle_2 vehicle_3  \\\n",
       "0            4491064                  Sedan                  Sedan       NaN   \n",
       "1            4491066                  Sedan  Sport Utility Vehicle       NaN   \n",
       "2            4491068  Sport Utility Vehicle  Sport Utility Vehicle       NaN   \n",
       "3            4491069  Sport Utility Vehicle                    NaN       NaN   \n",
       "4            4491076                 E-Bike                    NaN       NaN   \n",
       "...              ...                    ...                    ...       ...   \n",
       "200462       4715923                    NaN                    NaN       NaN   \n",
       "200463       4717852  Sport Utility Vehicle  Sport Utility Vehicle       NaN   \n",
       "200464       4718805  Sport Utility Vehicle                  Sedan     Sedan   \n",
       "200465       4719291                  Sedan  Sport Utility Vehicle       NaN   \n",
       "200466       4722485                  Sedan                   Bike       NaN   \n",
       "\n",
       "       vehicle_4 vehicle_5  \n",
       "0            NaN       NaN  \n",
       "1            NaN       NaN  \n",
       "2            NaN       NaN  \n",
       "3            NaN       NaN  \n",
       "4            NaN       NaN  \n",
       "...          ...       ...  \n",
       "200462       NaN       NaN  \n",
       "200463       NaN       NaN  \n",
       "200464       NaN       NaN  \n",
       "200465       NaN       NaN  \n",
       "200466       NaN       NaN  \n",
       "\n",
       "[200467 rows x 6 columns]"
      ]
     },
     "execution_count": 10,
     "metadata": {},
     "output_type": "execute_result"
    }
   ],
   "source": [
    "clnd_vehicle_type\n"
   ]
  },
  {
   "cell_type": "code",
   "execution_count": 11,
   "metadata": {},
   "outputs": [
    {
     "data": {
      "text/plain": [
       "200467"
      ]
     },
     "execution_count": 11,
     "metadata": {},
     "output_type": "execute_result"
    }
   ],
   "source": [
    "#Exporting the cleaned data entries to the sql database\n",
    "clnd_vehicle_type.to_sql('vehicle_type', connection, if_exists='replace', index=False)\n"
   ]
  }
 ],
 "metadata": {
  "kernelspec": {
   "display_name": "Python 3",
   "language": "python",
   "name": "python3"
  },
  "language_info": {
   "codemirror_mode": {
    "name": "ipython",
    "version": 3
   },
   "file_extension": ".py",
   "mimetype": "text/x-python",
   "name": "python",
   "nbconvert_exporter": "python",
   "pygments_lexer": "ipython3",
   "version": "3.11.7"
  }
 },
 "nbformat": 4,
 "nbformat_minor": 2
}
